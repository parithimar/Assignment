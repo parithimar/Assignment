{
 "cells": [
  {
   "cell_type": "code",
   "execution_count": null,
   "metadata": {},
   "outputs": [],
   "source": [
    "A List Comprehension, just like the plain range function, executes immediately and returns a list. ... The difference\n",
    "between the two kinds of expressions is that the List comprehension is enclosed in square brackets [] while the Generator\n",
    "expression is enclosed in plain parentheses ()."
   ]
  },
  {
   "cell_type": "code",
   "execution_count": null,
   "metadata": {},
   "outputs": [],
   "source": [
    "Iterator\tGenerator\n",
    "Iterators are used mostly to iterate or convert other objects to an iterator using iter() function.\n",
    "Generators are mostly used in loops to generate an iterator by returning all the values in the loop without\n",
    "affecting the iteration of the loop"
   ]
  },
  {
   "cell_type": "code",
   "execution_count": null,
   "metadata": {},
   "outputs": [],
   "source": [
    "If a function contains at least one yield statement (it may contain other yield or return statements), it becomes a \n",
    "generator function. Both yield and return will return some value from a function."
   ]
  },
  {
   "cell_type": "code",
   "execution_count": null,
   "metadata": {},
   "outputs": [],
   "source": [
    "In its simplest form, a yield statement looks much like a return statement, except that instead of stopping execution \n",
    "of the function and returning, yield instead provides a value to the code looping over the generator and pauses execution\n",
    "of the generator function."
   ]
  },
  {
   "cell_type": "code",
   "execution_count": null,
   "metadata": {},
   "outputs": [],
   "source": [
    "List comprehension is more concise and easier to read as compared to map. List comprehension are used when a list of\n",
    "results is required as map only returns a map object and does not return any list. Map is faster in case of calling an \n",
    "already defined function "
   ]
  },
  {
   "cell_type": "code",
   "execution_count": null,
   "metadata": {},
   "outputs": [],
   "source": []
  }
 ],
 "metadata": {
  "kernelspec": {
   "display_name": "Python 3",
   "language": "python",
   "name": "python3"
  },
  "language_info": {
   "codemirror_mode": {
    "name": "ipython",
    "version": 3
   },
   "file_extension": ".py",
   "mimetype": "text/x-python",
   "name": "python",
   "nbconvert_exporter": "python",
   "pygments_lexer": "ipython3",
   "version": "3.7.6"
  }
 },
 "nbformat": 4,
 "nbformat_minor": 4
}
