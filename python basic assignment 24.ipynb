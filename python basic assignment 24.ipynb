{
 "cells": [
  {
   "cell_type": "code",
   "execution_count": null,
   "metadata": {},
   "outputs": [],
   "source": [
    "For example, places like inside a list literal, or a function call's arguments. As an expression, lambda returns a \n",
    "value that can optionally be assigned a name. In contrast, the def statement always assigns the new function to the \n",
    "name in the header, instead of returning is as a result."
   ]
  },
  {
   "cell_type": "code",
   "execution_count": null,
   "metadata": {},
   "outputs": [],
   "source": [
    "The basic advantage of this technology is that you only pay for the time your function executes and the resources it\n",
    "needs to execute. AWS Lambda bills you only for the time when the FaaS function is called. It means you are charged \n",
    "95% less compared to running a server for an entire month."
   ]
  },
  {
   "cell_type": "code",
   "execution_count": null,
   "metadata": {},
   "outputs": [],
   "source": [
    "reduce() works differently than map() and filter() . It does not return a new list based on the function and iterable \n",
    "we've passed. Instead, it returns a single value. ... reduce() works by calling the function we passed for the first \n",
    "two items in the sequence."
   ]
  },
  {
   "cell_type": "code",
   "execution_count": null,
   "metadata": {},
   "outputs": [],
   "source": [
    "Function annotations provide a way of associating various parts of a function with arbitrary python expressions at \n",
    "compile time. The PEP-3107 makes no attempt to introduce any kind of standard semantics, even for the built-in types."
   ]
  },
  {
   "cell_type": "code",
   "execution_count": null,
   "metadata": {},
   "outputs": [],
   "source": [
    "A recursive function is a function that calls itself during its execution. The process may repeat several times,\n",
    "outputting the result and the end of each iteration. The function Count() below uses recursion to count from any \n",
    "number between 1 and 9, to the number 10."
   ]
  },
  {
   "cell_type": "code",
   "execution_count": null,
   "metadata": {},
   "outputs": [],
   "source": [
    "Limited use of globals: ...\n",
    "Standard headers for different modules: ...\n",
    "Naming conventions for local variables, global variables, constants and functions: ...\n",
    "Indentation: ...\n",
    "Error return values and exception handling conventions:"
   ]
  },
  {
   "cell_type": "code",
   "execution_count": null,
   "metadata": {},
   "outputs": [],
   "source": [
    "But for functions with arguments, we can call a function in two different ways, based on how we specify the arguments,\n",
    "and these two ways are: Call by Value. Call by Reference."
   ]
  }
 ],
 "metadata": {
  "kernelspec": {
   "display_name": "Python 3",
   "language": "python",
   "name": "python3"
  },
  "language_info": {
   "codemirror_mode": {
    "name": "ipython",
    "version": 3
   },
   "file_extension": ".py",
   "mimetype": "text/x-python",
   "name": "python",
   "nbconvert_exporter": "python",
   "pygments_lexer": "ipython3",
   "version": "3.7.6"
  }
 },
 "nbformat": 4,
 "nbformat_minor": 4
}
