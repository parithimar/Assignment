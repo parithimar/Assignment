{
 "cells": [
  {
   "cell_type": "code",
   "execution_count": null,
   "metadata": {},
   "outputs": [],
   "source": [
    "1)   *,/,+,- are expressions\n",
    "     'hello',-87.8,6 are values"
   ]
  },
  {
   "cell_type": "code",
   "execution_count": null,
   "metadata": {},
   "outputs": [],
   "source": [
    "2)  variable is used to hold values such as integer or floating point etc .in other words it is  one of \n",
    "    the memorylocation where values are stored where as string is  a one of the data types of  a value\n",
    "    that is stored in the variablr (that memorylocation) .for example there are data types such as integer ,float etc and\n",
    "    string is one among them."
   ]
  },
  {
   "cell_type": "code",
   "execution_count": null,
   "metadata": {},
   "outputs": [],
   "source": [
    "3) i) int is a datatype used to store integer values for example x=10.here x is a integer variable that stores the value 10\n",
    "   ii)y=2.3 is  a example for float datatype.it denotes the numbers with the fractions\n",
    "   iii)z='suriya'  is a example for string datatype .here z is the string variable name and suriya is the value"
   ]
  },
  {
   "cell_type": "code",
   "execution_count": null,
   "metadata": {},
   "outputs": [],
   "source": [
    "4) expression is  madeup of opetators and operands .for example a+b-c*x/y is an example for an expression here a,b,c,x,y \n",
    "   are operands and +,-,*,/ are operators and an expression evaluates to a value "
   ]
  },
  {
   "cell_type": "code",
   "execution_count": null,
   "metadata": {},
   "outputs": [],
   "source": [
    "5) expression is a one that evaluates to some value. statements represent an action or command\n",
    "   e.g print statements, assignment statements"
   ]
  },
  {
   "cell_type": "code",
   "execution_count": 3,
   "metadata": {},
   "outputs": [],
   "source": [
    "6) bacon value will be 22"
   ]
  },
  {
   "cell_type": "code",
   "execution_count": 6,
   "metadata": {},
   "outputs": [],
   "source": [
    "7) both will result in 'spamspamspam'"
   ]
  },
  {
   "cell_type": "code",
   "execution_count": null,
   "metadata": {},
   "outputs": [],
   "source": [
    "8) because as per the python rules numeric values can not be used as a variable name"
   ]
  },
  {
   "cell_type": "code",
   "execution_count": null,
   "metadata": {},
   "outputs": [],
   "source": [
    "9) int(),float(),str() functions can  be used to get the intger ,floating point and string version of a value respectively"
   ]
  },
  {
   "cell_type": "code",
   "execution_count": null,
   "metadata": {},
   "outputs": [],
   "source": [
    "10) 'i have eaten'+str(99)+'burriots' can be used to get the desired output"
   ]
  },
  {
   "cell_type": "code",
   "execution_count": null,
   "metadata": {},
   "outputs": [],
   "source": []
  },
  {
   "cell_type": "code",
   "execution_count": null,
   "metadata": {},
   "outputs": [],
   "source": []
  }
 ],
 "metadata": {
  "kernelspec": {
   "display_name": "Python 3",
   "language": "python",
   "name": "python3"
  },
  "language_info": {
   "codemirror_mode": {
    "name": "ipython",
    "version": 3
   },
   "file_extension": ".py",
   "mimetype": "text/x-python",
   "name": "python",
   "nbconvert_exporter": "python",
   "pygments_lexer": "ipython3",
   "version": "3.8.5"
  }
 },
 "nbformat": 4,
 "nbformat_minor": 4
}
